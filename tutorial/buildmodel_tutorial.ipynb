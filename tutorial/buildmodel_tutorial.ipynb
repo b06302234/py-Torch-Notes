{
  "cells": [
    {
      "cell_type": "markdown",
      "metadata": {
        "id": "view-in-github",
        "colab_type": "text"
      },
      "source": [
        "<a href=\"https://colab.research.google.com/github/b06302234/py-Torch-Notes/blob/main/tutorial/buildmodel_tutorial.ipynb\" target=\"_parent\"><img src=\"https://colab.research.google.com/assets/colab-badge.svg\" alt=\"Open In Colab\"/></a>"
      ]
    },
    {
      "cell_type": "code",
      "execution_count": null,
      "metadata": {
        "id": "BcvMyAP9v-sW"
      },
      "outputs": [],
      "source": [
        "# For tips on running notebooks in Google Colab, see\n",
        "# https://pytorch.org/tutorials/beginner/colab\n",
        "%matplotlib inline"
      ]
    },
    {
      "cell_type": "markdown",
      "metadata": {
        "id": "iazfKsHov-sY"
      },
      "source": [
        "[Learn the Basics](intro.html) \\|\\|\n",
        "[Quickstart](quickstart_tutorial.html) \\|\\|\n",
        "[Tensors](tensorqs_tutorial.html) \\|\\| [Datasets &\n",
        "DataLoaders](data_tutorial.html) \\|\\|\n",
        "[Transforms](transforms_tutorial.html) \\|\\| **Build Model** \\|\\|\n",
        "[Autograd](autogradqs_tutorial.html) \\|\\|\n",
        "[Optimization](optimization_tutorial.html) \\|\\| [Save & Load\n",
        "Model](saveloadrun_tutorial.html)\n",
        "\n",
        "Build the Neural Network\n",
        "========================\n",
        "\n",
        "Neural networks comprise of layers/modules that perform operations on\n",
        "data. The [torch.nn](https://pytorch.org/docs/stable/nn.html) namespace\n",
        "provides all the building blocks you need to build your own neural\n",
        "network. Every module in PyTorch subclasses the\n",
        "[nn.Module](https://pytorch.org/docs/stable/generated/torch.nn.Module.html).\n",
        "A neural network is a module itself that consists of other modules\n",
        "(layers). This nested structure allows for building and managing complex\n",
        "architectures easily.\n",
        "\n",
        "In the following sections, we\\'ll build a neural network to classify\n",
        "images in the FashionMNIST dataset.\n"
      ]
    },
    {
      "cell_type": "code",
      "execution_count": 1,
      "metadata": {
        "id": "BQOYQfIqv-sZ"
      },
      "outputs": [],
      "source": [
        "import os\n",
        "import torch\n",
        "from torch import nn\n",
        "from torch.utils.data import DataLoader\n",
        "from torchvision import datasets, transforms"
      ]
    },
    {
      "cell_type": "markdown",
      "metadata": {
        "id": "SIONcn8nv-sZ"
      },
      "source": [
        "Get Device for Training\n",
        "=======================\n",
        "\n",
        "We want to be able to train our model on a hardware accelerator like the\n",
        "GPU or MPS, if available. Let\\'s check to see if\n",
        "[torch.cuda](https://pytorch.org/docs/stable/notes/cuda.html) or\n",
        "[torch.backends.mps](https://pytorch.org/docs/stable/notes/mps.html) are\n",
        "available, otherwise we use the CPU.\n"
      ]
    },
    {
      "cell_type": "code",
      "execution_count": 2,
      "metadata": {
        "id": "JX5uqJT8v-sZ",
        "outputId": "acbdb160-f2e4-482c-9b81-3000c6ced5bf",
        "colab": {
          "base_uri": "https://localhost:8080/"
        }
      },
      "outputs": [
        {
          "output_type": "stream",
          "name": "stdout",
          "text": [
            "Using cuda device\n"
          ]
        }
      ],
      "source": [
        "device = (\n",
        "    \"cuda\"\n",
        "    if torch.cuda.is_available()\n",
        "    else \"mps\"\n",
        "    if torch.backends.mps.is_available()\n",
        "    else \"cpu\"\n",
        ")\n",
        "print(f\"Using {device} device\")"
      ]
    },
    {
      "cell_type": "markdown",
      "metadata": {
        "id": "NjXLEaMEv-sa"
      },
      "source": [
        "Define the Class\n",
        "================\n",
        "\n",
        "We define our neural network by subclassing `nn.Module`, and initialize\n",
        "the neural network layers in `__init__`. Every `nn.Module` subclass\n",
        "implements the operations on input data in the `forward` method.\n"
      ]
    },
    {
      "cell_type": "code",
      "execution_count": 3,
      "metadata": {
        "id": "EHWIZb5iv-sa"
      },
      "outputs": [],
      "source": [
        "class NeuralNetwork(nn.Module):\n",
        "  # NeuralNetwork這個class從nn.Module繼承過來\n",
        "    def __init__(self):\n",
        "        super().__init__()\n",
        "        # 繼承了methods\n",
        "        self.flatten = nn.Flatten()\n",
        "        self.linear_relu_stack = nn.Sequential(\n",
        "            nn.Linear(28*28, 512),\n",
        "            nn.ReLU(),\n",
        "            nn.Linear(512, 512),\n",
        "            nn.ReLU(),\n",
        "            nn.Linear(512, 10),\n",
        "        )\n",
        "\n",
        "    def forward(self, x):\n",
        "        x = self.flatten(x)\n",
        "        logits = self.linear_relu_stack(x)\n",
        "        return logits"
      ]
    },
    {
      "cell_type": "markdown",
      "metadata": {
        "id": "yTLyM66av-sa"
      },
      "source": [
        "We create an instance of `NeuralNetwork`, and move it to the `device`,\n",
        "and print its structure.\n"
      ]
    },
    {
      "cell_type": "code",
      "execution_count": 4,
      "metadata": {
        "id": "AsXK0fq-v-sa",
        "outputId": "f915f14c-3acd-44b5-ede8-16052e9eccd4",
        "colab": {
          "base_uri": "https://localhost:8080/"
        }
      },
      "outputs": [
        {
          "output_type": "stream",
          "name": "stdout",
          "text": [
            "NeuralNetwork(\n",
            "  (flatten): Flatten(start_dim=1, end_dim=-1)\n",
            "  (linear_relu_stack): Sequential(\n",
            "    (0): Linear(in_features=784, out_features=512, bias=True)\n",
            "    (1): ReLU()\n",
            "    (2): Linear(in_features=512, out_features=512, bias=True)\n",
            "    (3): ReLU()\n",
            "    (4): Linear(in_features=512, out_features=10, bias=True)\n",
            "  )\n",
            ")\n"
          ]
        }
      ],
      "source": [
        "model = NeuralNetwork().to(device)\n",
        "# 在device上做訓練\n",
        "print(model)"
      ]
    },
    {
      "cell_type": "markdown",
      "metadata": {
        "id": "J_Cs8il_v-sa"
      },
      "source": [
        "To use the model, we pass it the input data. This executes the model\\'s\n",
        "`forward`, along with some [background\n",
        "operations](https://github.com/pytorch/pytorch/blob/270111b7b611d174967ed204776985cefca9c144/torch/nn/modules/module.py#L866).\n",
        "Do not call `model.forward()` directly!\n",
        "\n",
        "Calling the model on the input returns a 2-dimensional tensor with dim=0\n",
        "corresponding to each output of 10 raw predicted values for each class,\n",
        "and dim=1 corresponding to the individual values of each output. We get\n",
        "the prediction probabilities by passing it through an instance of the\n",
        "`nn.Softmax` module.\n"
      ]
    },
    {
      "cell_type": "code",
      "execution_count": null,
      "metadata": {
        "id": "RVnJFEM5v-sa"
      },
      "outputs": [],
      "source": [
        "X = torch.rand(1, 28, 28, device=device)\n",
        "logits = model(X)\n",
        "pred_probab = nn.Softmax(dim=1)(logits) # Apply Softmax function to dim=1\n",
        "y_pred = pred_probab.argmax(1)\n",
        "print(f\"Predicted class: {y_pred}\")"
      ]
    },
    {
      "cell_type": "markdown",
      "metadata": {
        "id": "nxLLimV3v-sa"
      },
      "source": [
        "------------------------------------------------------------------------\n"
      ]
    },
    {
      "cell_type": "markdown",
      "metadata": {
        "id": "sW7MiS73v-sa"
      },
      "source": [
        "Model Layers\n",
        "============\n",
        "\n",
        "Let\\'s break down the layers in the FashionMNIST model. To illustrate\n",
        "it, we will take a sample minibatch of 3 images of size 28x28 and see\n",
        "what happens to it as we pass it through the network.\n"
      ]
    },
    {
      "cell_type": "code",
      "execution_count": 5,
      "metadata": {
        "id": "Y2t_teEbv-sb",
        "outputId": "92b5f349-e512-4e2d-91f0-7340f356c920",
        "colab": {
          "base_uri": "https://localhost:8080/"
        }
      },
      "outputs": [
        {
          "output_type": "stream",
          "name": "stdout",
          "text": [
            "torch.Size([3, 28, 28])\n"
          ]
        }
      ],
      "source": [
        "input_image = torch.rand(3,28,28)\n",
        "print(input_image.size())"
      ]
    },
    {
      "cell_type": "markdown",
      "metadata": {
        "id": "oR2viAGYv-sb"
      },
      "source": [
        "nn.Flatten\n",
        "==========\n",
        "\n",
        "We initialize the\n",
        "[nn.Flatten](https://pytorch.org/docs/stable/generated/torch.nn.Flatten.html)\n",
        "layer to convert each 2D 28x28 image into a contiguous array of 784\n",
        "pixel values ( the minibatch dimension (at dim=0) is maintained).\n"
      ]
    },
    {
      "cell_type": "code",
      "execution_count": 6,
      "metadata": {
        "id": "3ZXdEKJCv-sb",
        "outputId": "f959f12f-47ca-46ba-a153-c6cc7c06af06",
        "colab": {
          "base_uri": "https://localhost:8080/"
        }
      },
      "outputs": [
        {
          "output_type": "stream",
          "name": "stdout",
          "text": [
            "torch.Size([3, 784])\n"
          ]
        }
      ],
      "source": [
        "flatten = nn.Flatten()\n",
        "flat_image = flatten(input_image)\n",
        "print(flat_image.size())"
      ]
    },
    {
      "cell_type": "markdown",
      "metadata": {
        "id": "pd6YQFhmv-sb"
      },
      "source": [
        "nn.Linear\n",
        "=========\n",
        "\n",
        "The [linear\n",
        "layer](https://pytorch.org/docs/stable/generated/torch.nn.Linear.html)\n",
        "is a module that applies a linear transformation on the input using its\n",
        "stored weights and biases.\n"
      ]
    },
    {
      "cell_type": "code",
      "execution_count": 7,
      "metadata": {
        "id": "7h8qHoc9v-sb",
        "outputId": "578f84c4-d5a8-44be-dd18-c1b829a14495",
        "colab": {
          "base_uri": "https://localhost:8080/"
        }
      },
      "outputs": [
        {
          "output_type": "stream",
          "name": "stdout",
          "text": [
            "torch.Size([3, 20])\n"
          ]
        }
      ],
      "source": [
        "layer1 = nn.Linear(in_features=28*28, out_features=20)\n",
        "hidden1 = layer1(flat_image)\n",
        "print(hidden1.size())"
      ]
    },
    {
      "cell_type": "markdown",
      "metadata": {
        "id": "W8HJ4P6Fv-sb"
      },
      "source": [
        "nn.ReLU\n",
        "=======\n",
        "\n",
        "Non-linear activations are what create the complex mappings between the\n",
        "model\\'s inputs and outputs. They are applied after linear\n",
        "transformations to introduce *nonlinearity*, helping neural networks\n",
        "learn a wide variety of phenomena.\n",
        "\n",
        "In this model, we use\n",
        "[nn.ReLU](https://pytorch.org/docs/stable/generated/torch.nn.ReLU.html)\n",
        "between our linear layers, but there\\'s other activations to introduce\n",
        "non-linearity in your model.\n"
      ]
    },
    {
      "cell_type": "code",
      "execution_count": 8,
      "metadata": {
        "id": "CHI6sBiQv-sb",
        "outputId": "3137b49f-40a8-4644-e7a6-d0fb5eff982b",
        "colab": {
          "base_uri": "https://localhost:8080/"
        }
      },
      "outputs": [
        {
          "output_type": "stream",
          "name": "stdout",
          "text": [
            "Before ReLU: tensor([[-0.0939,  0.2882,  0.3742,  0.2138, -0.0245, -0.4456, -0.3510,  0.2187,\n",
            "         -0.0497,  0.2244,  0.0380,  0.5618,  0.1109,  0.7143, -0.3979,  0.4298,\n",
            "          0.0369,  0.4736,  0.2613,  0.0495],\n",
            "        [ 0.2609, -0.0792,  0.1031,  0.2906,  0.2252, -0.1794, -0.4067,  0.2690,\n",
            "         -0.5176,  0.5208, -0.1778,  0.3522,  0.1402,  0.5884, -0.7188, -0.0872,\n",
            "          0.0153,  0.1001,  0.4175, -0.0124],\n",
            "        [-0.0711,  0.3352,  0.2845,  0.4933, -0.0349, -0.1638, -0.3287,  0.3016,\n",
            "         -0.1145,  0.2260, -0.2693,  0.4302, -0.0190,  0.6013, -0.2280,  0.1070,\n",
            "         -0.0044,  0.3085,  0.0176,  0.1945]], grad_fn=<AddmmBackward0>)\n",
            "\n",
            "\n",
            "After ReLU: tensor([[0.0000, 0.2882, 0.3742, 0.2138, 0.0000, 0.0000, 0.0000, 0.2187, 0.0000,\n",
            "         0.2244, 0.0380, 0.5618, 0.1109, 0.7143, 0.0000, 0.4298, 0.0369, 0.4736,\n",
            "         0.2613, 0.0495],\n",
            "        [0.2609, 0.0000, 0.1031, 0.2906, 0.2252, 0.0000, 0.0000, 0.2690, 0.0000,\n",
            "         0.5208, 0.0000, 0.3522, 0.1402, 0.5884, 0.0000, 0.0000, 0.0153, 0.1001,\n",
            "         0.4175, 0.0000],\n",
            "        [0.0000, 0.3352, 0.2845, 0.4933, 0.0000, 0.0000, 0.0000, 0.3016, 0.0000,\n",
            "         0.2260, 0.0000, 0.4302, 0.0000, 0.6013, 0.0000, 0.1070, 0.0000, 0.3085,\n",
            "         0.0176, 0.1945]], grad_fn=<ReluBackward0>)\n"
          ]
        }
      ],
      "source": [
        "print(f\"Before ReLU: {hidden1}\\n\\n\")\n",
        "hidden1 = nn.ReLU()(hidden1)\n",
        "print(f\"After ReLU: {hidden1}\")"
      ]
    },
    {
      "cell_type": "markdown",
      "metadata": {
        "id": "2A3HfjVav-sb"
      },
      "source": [
        "nn.Sequential\n",
        "=============\n",
        "\n",
        "[nn.Sequential](https://pytorch.org/docs/stable/generated/torch.nn.Sequential.html)\n",
        "is an ordered container of modules. The data is passed through all the\n",
        "modules in the same order as defined. You can use sequential containers\n",
        "to put together a quick network like `seq_modules`.\n"
      ]
    },
    {
      "cell_type": "code",
      "execution_count": 9,
      "metadata": {
        "id": "A7chcwKWv-sb"
      },
      "outputs": [],
      "source": [
        "seq_modules = nn.Sequential(\n",
        "    flatten,\n",
        "    layer1,\n",
        "    nn.ReLU(),\n",
        "    nn.Linear(20, 10)\n",
        ")\n",
        "input_image = torch.rand(3,28,28)\n",
        "logits = seq_modules(input_image)"
      ]
    },
    {
      "cell_type": "markdown",
      "metadata": {
        "id": "rMeVumoRv-sc"
      },
      "source": [
        "nn.Softmax\n",
        "==========\n",
        "\n",
        "The last linear layer of the neural network returns [logits]{.title-ref}\n",
        "- raw values in \\[-infty, infty\\] - which are passed to the\n",
        "[nn.Softmax](https://pytorch.org/docs/stable/generated/torch.nn.Softmax.html)\n",
        "module. The logits are scaled to values \\[0, 1\\] representing the\n",
        "model\\'s predicted probabilities for each class. `dim` parameter\n",
        "indicates the dimension along which the values must sum to 1.\n"
      ]
    },
    {
      "cell_type": "code",
      "execution_count": 10,
      "metadata": {
        "id": "hCorftohv-sc"
      },
      "outputs": [],
      "source": [
        "softmax = nn.Softmax(dim=1)\n",
        "pred_probab = softmax(logits)"
      ]
    },
    {
      "cell_type": "markdown",
      "metadata": {
        "id": "4UyTta1xv-sc"
      },
      "source": [
        "Model Parameters\n",
        "================\n",
        "\n",
        "Many layers inside a neural network are *parameterized*, i.e. have\n",
        "associated weights and biases that are optimized during training.\n",
        "Subclassing `nn.Module` automatically tracks all fields defined inside\n",
        "your model object, and makes all parameters accessible using your\n",
        "model\\'s `parameters()` or `named_parameters()` methods.\n",
        "\n",
        "In this example, we iterate over each parameter, and print its size and\n",
        "a preview of its values.\n"
      ]
    },
    {
      "cell_type": "code",
      "execution_count": 11,
      "metadata": {
        "id": "a-b2PsyTv-sc",
        "outputId": "1340fa24-74bb-4275-e8ae-531201098ae7",
        "colab": {
          "base_uri": "https://localhost:8080/"
        }
      },
      "outputs": [
        {
          "output_type": "stream",
          "name": "stdout",
          "text": [
            "Model structure: NeuralNetwork(\n",
            "  (flatten): Flatten(start_dim=1, end_dim=-1)\n",
            "  (linear_relu_stack): Sequential(\n",
            "    (0): Linear(in_features=784, out_features=512, bias=True)\n",
            "    (1): ReLU()\n",
            "    (2): Linear(in_features=512, out_features=512, bias=True)\n",
            "    (3): ReLU()\n",
            "    (4): Linear(in_features=512, out_features=10, bias=True)\n",
            "  )\n",
            ")\n",
            "\n",
            "\n",
            "Layer: linear_relu_stack.0.weight | Size: torch.Size([512, 784]) | Values : tensor([[-0.0301,  0.0095,  0.0306,  ..., -0.0119,  0.0257,  0.0222],\n",
            "        [ 0.0063, -0.0116, -0.0321,  ...,  0.0206,  0.0176, -0.0124]],\n",
            "       device='cuda:0', grad_fn=<SliceBackward0>) \n",
            "\n",
            "Layer: linear_relu_stack.0.bias | Size: torch.Size([512]) | Values : tensor([ 0.0155, -0.0100], device='cuda:0', grad_fn=<SliceBackward0>) \n",
            "\n",
            "Layer: linear_relu_stack.2.weight | Size: torch.Size([512, 512]) | Values : tensor([[ 0.0281,  0.0067,  0.0181,  ...,  0.0023,  0.0136,  0.0268],\n",
            "        [ 0.0060, -0.0156,  0.0034,  ...,  0.0092, -0.0034,  0.0084]],\n",
            "       device='cuda:0', grad_fn=<SliceBackward0>) \n",
            "\n",
            "Layer: linear_relu_stack.2.bias | Size: torch.Size([512]) | Values : tensor([-0.0118, -0.0324], device='cuda:0', grad_fn=<SliceBackward0>) \n",
            "\n",
            "Layer: linear_relu_stack.4.weight | Size: torch.Size([10, 512]) | Values : tensor([[-0.0372, -0.0016, -0.0168,  ...,  0.0021,  0.0230,  0.0356],\n",
            "        [ 0.0294, -0.0356,  0.0315,  ..., -0.0247,  0.0309,  0.0364]],\n",
            "       device='cuda:0', grad_fn=<SliceBackward0>) \n",
            "\n",
            "Layer: linear_relu_stack.4.bias | Size: torch.Size([10]) | Values : tensor([-0.0289, -0.0045], device='cuda:0', grad_fn=<SliceBackward0>) \n",
            "\n"
          ]
        }
      ],
      "source": [
        "print(f\"Model structure: {model}\\n\\n\")\n",
        "# 這裡的結構是2層layers\n",
        "for name, param in model.named_parameters():\n",
        "    print(f\"Layer: {name} | Size: {param.size()} | Values : {param[:2]} \\n\")"
      ]
    },
    {
      "cell_type": "markdown",
      "metadata": {
        "id": "1M2DIu0Hv-sc"
      },
      "source": [
        "------------------------------------------------------------------------\n"
      ]
    },
    {
      "cell_type": "markdown",
      "metadata": {
        "id": "THMGN9-ov-sc"
      },
      "source": [
        "Further Reading\n",
        "===============\n",
        "\n",
        "-   [torch.nn API](https://pytorch.org/docs/stable/nn.html)\n"
      ]
    }
  ],
  "metadata": {
    "kernelspec": {
      "display_name": "Python 3",
      "name": "python3"
    },
    "language_info": {
      "codemirror_mode": {
        "name": "ipython",
        "version": 3
      },
      "file_extension": ".py",
      "mimetype": "text/x-python",
      "name": "python",
      "nbconvert_exporter": "python",
      "pygments_lexer": "ipython3",
      "version": "3.10.15"
    },
    "colab": {
      "provenance": [],
      "gpuType": "T4",
      "include_colab_link": true
    },
    "accelerator": "GPU"
  },
  "nbformat": 4,
  "nbformat_minor": 0
}